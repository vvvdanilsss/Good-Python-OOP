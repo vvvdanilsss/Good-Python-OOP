{
 "cells": [
  {
   "cell_type": "markdown",
   "source": [
    "Подвиг 4"
   ],
   "metadata": {
    "collapsed": false
   }
  },
  {
   "cell_type": "code",
   "execution_count": 2,
   "metadata": {
    "collapsed": true
   },
   "outputs": [],
   "source": [
    "class Rect:\n",
    "    def __init__(self, x, y, width, height):\n",
    "        self.x, self.y = x, y\n",
    "        self.width, self.height = width, height\n",
    "\n",
    "    def __hash__(self):\n",
    "        return hash((self.width, self.height))"
   ]
  },
  {
   "cell_type": "code",
   "execution_count": 3,
   "outputs": [
    {
     "data": {
      "text/plain": "(5092506917918050556, 5092506917918050556)"
     },
     "execution_count": 3,
     "metadata": {},
     "output_type": "execute_result"
    }
   ],
   "source": [
    "r1 = Rect(10, 5, 100, 50)\n",
    "r2 = Rect(-10, 4, 100, 50)\n",
    "\n",
    "hash(r1), hash(r2)"
   ],
   "metadata": {
    "collapsed": false
   }
  },
  {
   "cell_type": "markdown",
   "source": [
    "Подвиг 6"
   ],
   "metadata": {
    "collapsed": false
   }
  },
  {
   "cell_type": "code",
   "execution_count": 7,
   "outputs": [],
   "source": [
    "import sys\n",
    "\n",
    "\n",
    "class ShopItem:\n",
    "    def __init__(self, name, weight, price):\n",
    "        self.name = name\n",
    "        self.weight = weight\n",
    "        self.price = price\n",
    "\n",
    "    def __hash__(self):\n",
    "        return hash((self.name.lower(), self.weight, self.price))\n",
    "\n",
    "    def __eq__(self, other):\n",
    "        return hash(self) == hash(other)\n",
    "\n",
    "\n",
    "lst_in = list(map(str.strip, sys.stdin.readlines()))\n",
    "shop_items = {}\n",
    "\n",
    "for line in lst_in:\n",
    "    name, rest = line.split(\":\")\n",
    "    name = name.strip()\n",
    "\n",
    "    weight, price = map(float, rest.split())\n",
    "    item = ShopItem(name, weight, price)\n",
    "\n",
    "    if item in shop_items:\n",
    "        shop_items[item][1] += 1\n",
    "    else:\n",
    "        shop_items[item] = [item, 1]"
   ],
   "metadata": {
    "collapsed": false
   }
  },
  {
   "cell_type": "markdown",
   "source": [
    "Подвиг 7"
   ],
   "metadata": {
    "collapsed": false
   }
  },
  {
   "cell_type": "code",
   "execution_count": 23,
   "outputs": [],
   "source": [
    "import sys\n",
    "\n",
    "\n",
    "class Record:\n",
    "    counter = 0\n",
    "\n",
    "    def __init__(self, fio, descr, old):\n",
    "        self.pk = self.__class__.counter\n",
    "        self.__class__.counter += 1\n",
    "        self.fio = fio\n",
    "        self.descr = descr\n",
    "        self.old = int(old)\n",
    "\n",
    "    def __hash__(self):\n",
    "        return hash((self.fio.lower(), self.old))\n",
    "\n",
    "    def __eq__(self, other):\n",
    "        return hash(self) == hash(other)\n",
    "\n",
    "\n",
    "class DataBase:\n",
    "    def __init__(self, path):\n",
    "        self.path = path\n",
    "        self.dict_db = dict()\n",
    "\n",
    "    def write(self, record):\n",
    "        if record in self.dict_db:\n",
    "            self.dict_db[record].append(record)\n",
    "        else:\n",
    "            self.dict_db[record] = [record]\n",
    "\n",
    "    def read(self, pk):\n",
    "        for records_list in self.dict_db.values():\n",
    "            for record in records_list:\n",
    "                if pk == record.pk:\n",
    "                    return record\n",
    "\n",
    "\n",
    "lst_in = list(map(str.strip, sys.stdin.readlines()))\n",
    "db = DataBase(\"/corr/v1/db\")\n",
    "for rec in lst_in:\n",
    "    db.write(Record(*rec.split(\"; \")))"
   ],
   "metadata": {
    "collapsed": false
   }
  },
  {
   "cell_type": "markdown",
   "source": [
    "Подвиг 8"
   ],
   "metadata": {
    "collapsed": false
   }
  },
  {
   "cell_type": "code",
   "execution_count": 24,
   "outputs": [],
   "source": [
    "import sys\n",
    "\n",
    "\n",
    "lst_in = list(map(str.strip, sys.stdin.readlines()))\n",
    "\n",
    "\n",
    "class BookStudy:\n",
    "    def __init__(self, name, author, year):\n",
    "        self.name = name\n",
    "        self.author = author\n",
    "        self.year = int(year)\n",
    "\n",
    "    def __hash__(self):\n",
    "        return hash((self.name.lower(), self.author.lower()))\n",
    "\n",
    "\n",
    "lst_bs = [BookStudy(*line_str.split(\"; \")) for line_str in lst_in]\n",
    "unique_books = len(set(hash(book) for book in lst_bs))"
   ],
   "metadata": {
    "collapsed": false
   }
  },
  {
   "cell_type": "markdown",
   "source": [
    "Подвиг 9 (релакс)"
   ],
   "metadata": {
    "collapsed": false
   }
  },
  {
   "cell_type": "code",
   "execution_count": 34,
   "outputs": [],
   "source": [
    "class Dimensions:\n",
    "    def __init__(self, a, b, c):\n",
    "        self.a, self.b, self.c = a, b, c\n",
    "\n",
    "    def __setattr__(self, key, value):\n",
    "        if key in (\"a\", \"b\", \"c\"):\n",
    "            if value <= 0:\n",
    "                raise ValueError(\"габаритные размеры должны быть положительными числами\")\n",
    "            object.__setattr__(self, key, value)\n",
    "\n",
    "    def __hash__(self):\n",
    "        return hash((self.a, self.b, self.c))\n",
    "\n",
    "\n",
    "s_inp = input()\n",
    "lst_dims = [Dimensions(*map(lambda x: int(x) if x.isdigit() else float(x), dimensions.split())) for dimensions in s_inp.split(\"; \")]\n",
    "lst_dims = sorted(lst_dims, key=lambda x: hash(x))"
   ],
   "metadata": {
    "collapsed": false
   }
  },
  {
   "cell_type": "code",
   "execution_count": 35,
   "outputs": [
    {
     "data": {
      "text/plain": "[<__main__.Dimensions at 0x230893861d0>,\n <__main__.Dimensions at 0x230887a3f90>,\n <__main__.Dimensions at 0x23089386390>,\n <__main__.Dimensions at 0x23089384c10>]"
     },
     "execution_count": 35,
     "metadata": {},
     "output_type": "execute_result"
    }
   ],
   "source": [
    "lst_dims"
   ],
   "metadata": {
    "collapsed": false
   }
  },
  {
   "cell_type": "markdown",
   "source": [
    "Подвиг 10 (на повторение)"
   ],
   "metadata": {
    "collapsed": false
   }
  },
  {
   "cell_type": "code",
   "execution_count": null,
   "outputs": [],
   "source": [
    "class Descriptor:\n",
    "    def __set_name__(self, owner, name):\n",
    "        self.name = '__' + name\n",
    "\n",
    "    def __set__(self, instance, value):\n",
    "        if value <= 0:\n",
    "            raise ValueError(\"Длины сторон треугольника должны быть положительными числами\")\n",
    "        setattr(instance, self.name, value)\n",
    "\n",
    "    def __get__(self, instance, owner):\n",
    "        return getattr(instance, self.name)\n",
    "\n",
    "\n",
    "class Triangle:\n",
    "    a = Descriptor()\n",
    "    b = Descriptor()\n",
    "    c = Descriptor()\n",
    "\n",
    "    def __init__(self, a, b, c):\n",
    "        self.a = a\n",
    "        self.b = b\n",
    "        self.c = c\n",
    "        self.__check_triangle()\n",
    "\n",
    "    def __check_triangle(self):\n",
    "        if self.a >= self.b + self.c or self.b >= self.a + self.c or self.c >= self.a + self.b:\n",
    "            raise ValueError(\"С указанными длинами нельзя образовать треугольник\")\n",
    "\n",
    "    def __len__(self):\n",
    "        return int(self.a + self.b + self.c)\n",
    "\n",
    "    def __call__(self):\n",
    "        p = len(self) / 2\n",
    "        return (p * (p - self.a) * (p - self.b) * (p - self.c)) ** 0.5"
   ],
   "metadata": {
    "collapsed": false
   }
  }
 ],
 "metadata": {
  "kernelspec": {
   "display_name": "Python 3",
   "language": "python",
   "name": "python3"
  },
  "language_info": {
   "codemirror_mode": {
    "name": "ipython",
    "version": 2
   },
   "file_extension": ".py",
   "mimetype": "text/x-python",
   "name": "python",
   "nbconvert_exporter": "python",
   "pygments_lexer": "ipython2",
   "version": "2.7.6"
  }
 },
 "nbformat": 4,
 "nbformat_minor": 0
}
