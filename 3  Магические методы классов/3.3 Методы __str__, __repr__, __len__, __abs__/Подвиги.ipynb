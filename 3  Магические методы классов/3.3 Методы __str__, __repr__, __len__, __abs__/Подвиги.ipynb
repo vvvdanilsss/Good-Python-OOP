{
 "cells": [
  {
   "cell_type": "code",
   "execution_count": null,
   "metadata": {
    "collapsed": true
   },
   "outputs": [],
   "source": [
    "import sys"
   ]
  },
  {
   "cell_type": "markdown",
   "source": [
    "Подвиг 2"
   ],
   "metadata": {
    "collapsed": false
   }
  },
  {
   "cell_type": "code",
   "execution_count": null,
   "outputs": [],
   "source": [
    "class Book:\n",
    "    def __init__(self, title: str, author: str, pages: int):\n",
    "        self.title = title\n",
    "        self.author = author\n",
    "        self.pages = pages\n",
    "\n",
    "    def __setattr__(self, key, value):\n",
    "        if (key in ('title', 'author') and isinstance(value, str)) or \\\n",
    "                (key in ('pages',) and isinstance(value, int)):\n",
    "            object.__setattr__(self, key, value)\n",
    "\n",
    "    def __str__(self):\n",
    "        return f'Книга: {self.title}; {self.author}; {self.pages}'\n",
    "\n",
    "\n",
    "lst_in = list(map(str.strip, sys.stdin.readlines()))\n",
    "tit, aut, pag = lst_in\n",
    "print(Book(tit, aut, int(pag)))"
   ],
   "metadata": {
    "collapsed": false
   }
  },
  {
   "cell_type": "markdown",
   "source": [
    "Подвиг 3"
   ],
   "metadata": {
    "collapsed": false
   }
  },
  {
   "cell_type": "code",
   "execution_count": 6,
   "outputs": [
    {
     "name": "stdout",
     "output_type": "stream",
     "text": [
      "Model: id = 1, fio = Sergey, old = 33\n"
     ]
    }
   ],
   "source": [
    "class Model:\n",
    "    def __init__(self):\n",
    "        self.__note = None\n",
    "\n",
    "    def __str__(self):\n",
    "        return f'Model: {\", \".join(f\"{key} = {value}\" for key, value in self.__note.items())}' if self.__note else 'Model'\n",
    "\n",
    "    def query(self, **kwargs):\n",
    "        self.__note = kwargs\n",
    "\n",
    "\n",
    "model = Model()\n",
    "model.query(id=1, fio='Sergey', old=33)\n",
    "print(model)"
   ],
   "metadata": {
    "collapsed": false
   }
  },
  {
   "cell_type": "markdown",
   "source": [
    "Подвиг 4"
   ],
   "metadata": {
    "collapsed": false
   }
  },
  {
   "cell_type": "code",
   "execution_count": 1,
   "outputs": [
    {
     "name": "stdout",
     "output_type": "stream",
     "text": [
      "Курс по Python ООП\n",
      "Число слов: 4; первое слово: Курс\n"
     ]
    }
   ],
   "source": [
    "class WordString:\n",
    "    def __init__(self, string: str = ''):\n",
    "        self.__string = string\n",
    "\n",
    "    @property\n",
    "    def string(self):\n",
    "        return self.__string\n",
    "\n",
    "    @string.setter\n",
    "    def string(self, value):\n",
    "        self.__string = value\n",
    "\n",
    "    def __setattr__(self, key, value):\n",
    "        (object.__setattr__(self, key, value) if isinstance(value,\n",
    "                                                            str) else None) if key == 'string' else object.__setattr__(\n",
    "            self, key, value)\n",
    "\n",
    "    def __len__(self):\n",
    "        return len(self.__string.split())\n",
    "\n",
    "    def __call__(self, *args, **kwargs):\n",
    "        return self.__string.split()[args[0]] if args else 'Индекс не передан.'\n",
    "\n",
    "\n",
    "words = WordString()\n",
    "words.string = \"Курс по Python ООП\"\n",
    "n = len(words)\n",
    "first = \"\" if n == 0 else words(0)\n",
    "print(words.string)\n",
    "print(f\"Число слов: {n}; первое слово: {first}\")"
   ],
   "metadata": {
    "collapsed": false
   }
  },
  {
   "cell_type": "markdown",
   "source": [
    "Подвиг 5"
   ],
   "metadata": {
    "collapsed": false
   }
  },
  {
   "cell_type": "code",
   "execution_count": 4,
   "outputs": [
    {
     "name": "stdout",
     "output_type": "stream",
     "text": [
      "3 Balakirev\n"
     ]
    }
   ],
   "source": [
    "class Descriptor:\n",
    "    def __set_name__(self, owner, name):\n",
    "        self.name = '__' + name\n",
    "\n",
    "    def __set__(self, instance, value):\n",
    "        setattr(instance, self.name, value)\n",
    "\n",
    "    def __get__(self, instance, owner):\n",
    "        return getattr(instance, self.name)\n",
    "\n",
    "\n",
    "class ObjList:\n",
    "    data = Descriptor()\n",
    "    prev = Descriptor()\n",
    "    next = Descriptor()\n",
    "\n",
    "    def __init__(self, data: str):\n",
    "        self.data = data\n",
    "        self.prev = None\n",
    "        self.next = None\n",
    "\n",
    "\n",
    "class LinkedList:\n",
    "    head = None\n",
    "    tail = None\n",
    "\n",
    "    def add_obj(self, obj):\n",
    "        if self.tail:\n",
    "            self.tail.next = obj\n",
    "            obj.prev = self.tail\n",
    "            self.tail = obj\n",
    "        else:\n",
    "            self.head = self.tail = obj\n",
    "\n",
    "    def remove_obj(self, indx):\n",
    "        obj = self.head\n",
    "        counter = 0\n",
    "        while True:\n",
    "            if counter == indx:\n",
    "                if obj.prev and obj.next:\n",
    "                    obj.prev.next = obj.next\n",
    "                    obj.next.prev = obj.prev\n",
    "                elif obj.prev:\n",
    "                    obj.prev.next = None\n",
    "                    self.tail = obj.prev\n",
    "                elif obj.next:\n",
    "                    obj.next.prev = None\n",
    "                    self.head = obj.next\n",
    "                else:\n",
    "                    self.head = self.tail = None\n",
    "                break\n",
    "            counter += 1\n",
    "            obj = obj.next\n",
    "\n",
    "    def __len__(self):\n",
    "        obj = self.head\n",
    "        counter = 1\n",
    "        while obj.next:\n",
    "            counter += 1\n",
    "            obj = obj.next\n",
    "        return counter\n",
    "\n",
    "    def __call__(self, indx):\n",
    "        if indx < 0 or indx >= len(self):\n",
    "            raise IndexError(\"Индекс находится за пределами списка\")\n",
    "        obj = self.head\n",
    "        counter = 0\n",
    "        while counter != indx:\n",
    "            counter += 1\n",
    "            obj = obj.next\n",
    "        return obj.data\n",
    "\n",
    "\n",
    "linked_lst = LinkedList()\n",
    "linked_lst.add_obj(ObjList(\"Sergey\"))\n",
    "linked_lst.add_obj(ObjList(\"Balakirev\"))\n",
    "linked_lst.add_obj(ObjList(\"Python\"))\n",
    "linked_lst.remove_obj(2)\n",
    "linked_lst.add_obj(ObjList(\"Python ООП\"))\n",
    "n = len(linked_lst)  # n = 3\n",
    "s = linked_lst(1)  # s = Balakirev\n",
    "print(n, s)"
   ],
   "metadata": {
    "collapsed": false
   }
  },
  {
   "cell_type": "markdown",
   "source": [
    "Подвиг 6"
   ],
   "metadata": {
    "collapsed": false
   }
  },
  {
   "cell_type": "code",
   "execution_count": null,
   "outputs": [],
   "source": [
    "class Complex:\n",
    "    def __init__(self, real: int or float, img: int or float):\n",
    "        self.__real = real\n",
    "        self.__img = img\n",
    "\n",
    "    @property\n",
    "    def real(self):\n",
    "        return self.__real\n",
    "\n",
    "    @real.setter\n",
    "    def real(self, value):\n",
    "        self.__real = value\n",
    "\n",
    "    @property\n",
    "    def img(self):\n",
    "        return self.__img\n",
    "\n",
    "    @img.setter\n",
    "    def img(self, value):\n",
    "        self.__img = value\n",
    "\n",
    "    def __setattr__(self, key, value):\n",
    "        if key in ('real', 'img'):\n",
    "            if isinstance(value, (int, float)):\n",
    "                object.__setattr__(self, key, value)\n",
    "            else:\n",
    "                raise ValueError(\"Неверный тип данных.\")\n",
    "        else:\n",
    "            object.__setattr__(self, key, value)\n",
    "\n",
    "    def __abs__(self):\n",
    "        return (self.__real ** 2 + self.__img ** 2) ** 0.5\n",
    "\n",
    "\n",
    "cmp = Complex(real=7, img=8)\n",
    "cmp.real, cmp.img = 3, 4\n",
    "c_abs = abs(cmp)"
   ],
   "metadata": {
    "collapsed": false
   }
  },
  {
   "cell_type": "markdown",
   "source": [
    "Подвиг 7"
   ],
   "metadata": {
    "collapsed": false
   }
  },
  {
   "cell_type": "code",
   "execution_count": 10,
   "outputs": [
    {
     "name": "stdout",
     "output_type": "stream",
     "text": [
      "3 8.306623862918075\n"
     ]
    }
   ],
   "source": [
    "class RadiusVector:\n",
    "    def __init__(self, *args):\n",
    "        if len(args) == 1:\n",
    "            self.__vector = (0,) * args[0]\n",
    "        else:\n",
    "            self.__vector = args\n",
    "\n",
    "    def set_coords(self, *args):\n",
    "        self.__vector = args + self.__vector[len(args):] if len(args) < len(self) else args[:len(self)]\n",
    "\n",
    "    def get_coords(self):\n",
    "        return self.__vector\n",
    "\n",
    "    def __len__(self):\n",
    "        return len(self.__vector)\n",
    "\n",
    "    def __abs__(self):\n",
    "        return sum(coord ** 2 for coord in self.__vector) ** 0.5\n",
    "\n",
    "\n",
    "vector3D = RadiusVector(3)\n",
    "vector3D.set_coords(3, -5.6, 8)\n",
    "a, b, c = vector3D.get_coords()\n",
    "vector3D.set_coords(3, -5.6, 8, 10, 11)  # ошибки быть не должно, последние две координаты игнорируются\n",
    "vector3D.set_coords(1, 2)  # ошибки быть не должно, меняются только первые две координаты\n",
    "res_len = len(vector3D)  # res_len = 3\n",
    "res_abs = abs(vector3D)\n",
    "\n",
    "print(res_len, res_abs)"
   ],
   "metadata": {
    "collapsed": false
   }
  },
  {
   "cell_type": "markdown",
   "source": [
    "Подвиг 8"
   ],
   "metadata": {
    "collapsed": false
   }
  },
  {
   "cell_type": "code",
   "execution_count": 12,
   "outputs": [
    {
     "name": "stdout",
     "output_type": "stream",
     "text": [
      "01: 30: 00\n"
     ]
    }
   ],
   "source": [
    "class Clock:\n",
    "    def __init__(self, hours: int, minutes: int, seconds: int):\n",
    "        assert hours >= 0, \"Значение должно быть неотрицательным\"\n",
    "        assert minutes >= 0, \"Значение должно быть неотрицательным\"\n",
    "        assert seconds >= 0, \"Значение должно быть неотрицательным\"\n",
    "        self.__hours = hours\n",
    "        self.__minutes = minutes\n",
    "        self.__seconds = seconds\n",
    "\n",
    "    def get_time(self):\n",
    "        return self.__hours * 3600 + self.__minutes * 60 + self.__seconds\n",
    "\n",
    "\n",
    "class DeltaClock:\n",
    "    def __init__(self, clock1, clock2):\n",
    "        self.__clock1 = clock1\n",
    "        self.__clock2 = clock2\n",
    "\n",
    "    def __len__(self):\n",
    "        time1, time2 = self.__clock1.get_time(), self.__clock2.get_time()\n",
    "        return time1 - time2 if time1 > time2 else 0\n",
    "\n",
    "    def __str__(self):\n",
    "        delta = len(self)\n",
    "        return f'{str(delta // 3600).zfill(2)}: {str(delta % 3600 // 60).zfill(2)}: {str(delta % 3600 % 60).zfill(2)}'\n",
    "\n",
    "\n",
    "dt = DeltaClock(Clock(2, 45, 0), Clock(1, 15, 0))\n",
    "print(dt) # 01: 30: 00\n",
    "len_dt = len(dt) # 5400"
   ],
   "metadata": {
    "collapsed": false
   }
  },
  {
   "cell_type": "markdown",
   "source": [
    "Подвиг 9"
   ],
   "metadata": {
    "collapsed": false
   }
  },
  {
   "cell_type": "code",
   "execution_count": 14,
   "outputs": [
    {
     "name": "stdout",
     "output_type": "stream",
     "text": [
      "('Соль: 1, столовая ложка', 'Мука: 1, кг', 'Мясо баранины: 10, кг') 3\n"
     ]
    }
   ],
   "source": [
    "class Ingredient:\n",
    "    def __init__(self, name: str, volume: float, measure: str):\n",
    "        self.name = name\n",
    "        self.volume = volume\n",
    "        self.measure = measure\n",
    "\n",
    "    def __str__(self):\n",
    "        return f'{self.name}: {self.volume}, {self.measure}'\n",
    "\n",
    "\n",
    "class Recipe:\n",
    "    def __init__(self, *args):\n",
    "        self.ingredients = list(args)\n",
    "\n",
    "    def add_ingredient(self, ing):\n",
    "        self.ingredients.append(ing)\n",
    "\n",
    "    def remove_ingredient(self, ing):\n",
    "        self.ingredients.remove(ing)\n",
    "\n",
    "    def get_ingredients(self):\n",
    "        return tuple(self.ingredients)\n",
    "\n",
    "    def __len__(self):\n",
    "        return len(self.ingredients)\n",
    "\n",
    "\n",
    "recipe = Recipe()\n",
    "recipe.add_ingredient(Ingredient(\"Соль\", 1, \"столовая ложка\"))\n",
    "recipe.add_ingredient(Ingredient(\"Мука\", 1, \"кг\"))\n",
    "recipe.add_ingredient(Ingredient(\"Мясо баранины\", 10, \"кг\"))\n",
    "ings = recipe.get_ingredients()\n",
    "n = len(recipe) # n = 3\n",
    "\n",
    "print(ings, n)"
   ],
   "metadata": {
    "collapsed": false
   }
  },
  {
   "cell_type": "markdown",
   "source": [
    "Подвиг 10 (на повторение)"
   ],
   "metadata": {
    "collapsed": false
   }
  },
  {
   "cell_type": "code",
   "execution_count": null,
   "outputs": [],
   "source": [
    "class PolyLine:\n",
    "    def __init__(self, *args):\n",
    "        self.__coords = list(args)\n",
    "\n",
    "    def add_coord(self, x, y):\n",
    "        self.__coords.append((x, y))\n",
    "\n",
    "    def remove_coord(self, indx):\n",
    "        self.__coords.pop(indx)\n",
    "\n",
    "    def get_coords(self):\n",
    "        return self.__coords"
   ],
   "metadata": {
    "collapsed": false
   }
  }
 ],
 "metadata": {
  "kernelspec": {
   "display_name": "Python 3",
   "language": "python",
   "name": "python3"
  },
  "language_info": {
   "codemirror_mode": {
    "name": "ipython",
    "version": 2
   },
   "file_extension": ".py",
   "mimetype": "text/x-python",
   "name": "python",
   "nbconvert_exporter": "python",
   "pygments_lexer": "ipython2",
   "version": "2.7.6"
  }
 },
 "nbformat": 4,
 "nbformat_minor": 0
}
