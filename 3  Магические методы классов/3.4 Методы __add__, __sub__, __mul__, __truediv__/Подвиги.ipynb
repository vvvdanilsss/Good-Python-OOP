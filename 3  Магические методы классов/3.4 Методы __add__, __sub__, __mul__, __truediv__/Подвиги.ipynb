{
 "cells": [
  {
   "cell_type": "markdown",
   "source": [
    "Подвиг 4"
   ],
   "metadata": {
    "collapsed": false
   }
  },
  {
   "cell_type": "code",
   "execution_count": 16,
   "metadata": {
    "collapsed": true
   },
   "outputs": [],
   "source": [
    "class NewList:\n",
    "    def __init__(self, lst=None):\n",
    "        self.__lst = lst if isinstance(lst, list) else []\n",
    "\n",
    "    def get_list(self):\n",
    "        return self.__lst\n",
    "\n",
    "    @staticmethod\n",
    "    def __subtraction(lst_1, lst_2):\n",
    "        new_lst = []\n",
    "        lst_2_copy = lst_2[:]\n",
    "\n",
    "        for value in lst_1:\n",
    "            lst_2_true_false = list(map(lambda x: type(x) == type(value) and x == value, lst_2_copy))\n",
    "            if any(lst_2_true_false):\n",
    "                lst_2_copy.pop(lst_2_true_false.index(True))\n",
    "                continue\n",
    "\n",
    "            new_lst.append(value)\n",
    "\n",
    "        return new_lst\n",
    "\n",
    "    def __sub__(self, other):\n",
    "        if not isinstance(other, (list, self.__class__)):\n",
    "            raise ArithmeticError(\"Правый операнд должен быть списком или объектом класса NewList\")\n",
    "\n",
    "        other_lst = other.get_list() if isinstance(other, self.__class__) else other\n",
    "\n",
    "        return self.__class__(self.__subtraction(self.__lst, other_lst))\n",
    "\n",
    "    def __rsub__(self, other):\n",
    "        if not isinstance(other, list):\n",
    "            raise ArithmeticError(\"Левый операнд должен быть списком\")\n",
    "\n",
    "        return self.__class__(self.__subtraction(other, self.__lst))"
   ]
  },
  {
   "cell_type": "code",
   "execution_count": 19,
   "outputs": [
    {
     "data": {
      "text/plain": "([-4, 6, 10, 11, 15, False], [1, 2, 3], [4.5], [1, 2])"
     },
     "execution_count": 19,
     "metadata": {},
     "output_type": "execute_result"
    }
   ],
   "source": [
    "lst1 = NewList([1, 2, -4, 6, 10, 11, 15, False, True])\n",
    "lst2 = NewList([0, 1, 2, 3, True])\n",
    "res_1 = lst1 - lst2  # NewList: [-4, 6, 10, 11, 15, False]\n",
    "lst1 -= lst2  # NewList: [-4, 6, 10, 11, 15, False]\n",
    "res_2 = lst2 - [0, True]  # NewList: [1, 2, 3]\n",
    "res_3 = [1, 2, 3, 4.5] - res_2  # NewList: [4.5]\n",
    "a = NewList([2, 3])\n",
    "res_4 = [1, 2, 2, 3] - a  # NewList: [1, 2]\n",
    "res_1.get_list(), res_2.get_list(), res_3.get_list(), res_4.get_list()"
   ],
   "metadata": {
    "collapsed": false
   }
  },
  {
   "cell_type": "markdown",
   "source": [
    "Подвиг 5"
   ],
   "metadata": {
    "collapsed": false
   }
  },
  {
   "cell_type": "code",
   "execution_count": 32,
   "outputs": [],
   "source": [
    "class ListMath:\n",
    "    def __init__(self, lst=None):\n",
    "        self.lst_math = [_ for _ in lst if isinstance(_, (int, float)) and not isinstance(_, bool)] if isinstance(lst,\n",
    "                                                                                                                  list) else []\n",
    "\n",
    "    def __lst_arithmetic(self, other, operator='+'):\n",
    "        return list(map(lambda _: eval(f'{_} {operator} {other}'), self.lst_math))\n",
    "\n",
    "    def __add__(self, other):\n",
    "        return self.__class__(self.__lst_arithmetic(other))\n",
    "\n",
    "    def __radd__(self, other):\n",
    "        return self + other\n",
    "\n",
    "    def __iadd__(self, other):\n",
    "        self.lst_math = self.__lst_arithmetic(other)\n",
    "        return self\n",
    "\n",
    "    def __sub__(self, other):\n",
    "        return self.__class__(self.__lst_arithmetic(other, operator='-'))\n",
    "\n",
    "    def __rsub__(self, other):\n",
    "        return self.__class__(self.__lst_arithmetic(other, operator='-')) * (-1)\n",
    "\n",
    "    def __isub__(self, other):\n",
    "        self.lst_math = self.__lst_arithmetic(other, operator='-')\n",
    "        return self\n",
    "\n",
    "    def __mul__(self, other):\n",
    "        return self.__class__(self.__lst_arithmetic(other, operator='*'))\n",
    "\n",
    "    def __rmul__(self, other):\n",
    "        return self * other\n",
    "\n",
    "    def __imul__(self, other):\n",
    "        self.lst_math = self.__lst_arithmetic(other, operator='*')\n",
    "        return self\n",
    "\n",
    "    def __truediv__(self, other):\n",
    "        return self.__class__(self.__lst_arithmetic(other, operator='/'))\n",
    "\n",
    "    def __rtruediv__(self, other):\n",
    "        return self / other\n",
    "\n",
    "    def __itruediv__(self, other):\n",
    "        self.lst_math = self.__lst_arithmetic(other, operator='/')\n",
    "        return self"
   ],
   "metadata": {
    "collapsed": false
   }
  },
  {
   "cell_type": "code",
   "execution_count": 33,
   "outputs": [],
   "source": [
    "lst = ListMath([1, \"abc\", -5, 7.68, True])\n",
    "lst = lst + 76  # сложение каждого числа списка с определенным числом\n",
    "lst = 6.5 + lst  # сложение каждого числа списка с определенным числом\n",
    "lst += 76.7  # сложение каждого числа списка с определенным числом\n",
    "lst = lst - 76  # вычитание из каждого числа списка определенного числа\n",
    "lst = 7.0 - lst  # вычитание из числа каждого числа списка\n",
    "lst -= 76.3\n",
    "lst = lst * 5  # умножение каждого числа списка на указанное число (в данном случае на 5)\n",
    "lst = 5 * lst  # умножение каждого числа списка на указанное число (в данном случае на 5)\n",
    "lst *= 5.54\n",
    "lst = lst / 13  # деление каждого числа списка на указанное число (в данном случае на 13)\n",
    "lst = 3 / lst  # деление числа на каждый элемент списка\n",
    "lst /= 13.0"
   ],
   "metadata": {
    "collapsed": false
   }
  },
  {
   "cell_type": "markdown",
   "source": [
    "Подвиг 6"
   ],
   "metadata": {
    "collapsed": false
   }
  },
  {
   "cell_type": "code",
   "execution_count": 35,
   "outputs": [],
   "source": [
    "class StackObj:\n",
    "    def __init__(self, data: str):\n",
    "        self.__data = data\n",
    "        self.__next = None\n",
    "\n",
    "    @property\n",
    "    def next(self):\n",
    "        return self.__next\n",
    "\n",
    "    @next.setter\n",
    "    def next(self, obj):\n",
    "        self.__next = obj\n",
    "\n",
    "\n",
    "class Stack:\n",
    "    def __init__(self):\n",
    "        self.top = None\n",
    "        self.__back = None\n",
    "\n",
    "    def push_back(self, obj):\n",
    "        if not self.top:\n",
    "            self.top = self.__back = obj\n",
    "        else:\n",
    "            self.__back.next = obj\n",
    "            self.__back = obj\n",
    "\n",
    "    def pop_back(self):\n",
    "        obj = self.top\n",
    "        while True:\n",
    "            if not obj.next.next:\n",
    "                obj.next = None\n",
    "                self.__back = obj\n",
    "                break\n",
    "            obj = obj.next\n",
    "\n",
    "    def __add__(self, other):\n",
    "        self.push_back(other)\n",
    "        return self\n",
    "\n",
    "    def __mul__(self, other):\n",
    "        for data in other:\n",
    "            self.push_back(StackObj(data))\n",
    "        return self"
   ],
   "metadata": {
    "collapsed": false
   }
  },
  {
   "cell_type": "code",
   "execution_count": 37,
   "outputs": [],
   "source": [
    "st = Stack()\n",
    "st = st * ['data_1', 'data_2', 'data_N']\n",
    "st *= ['data_1', 'data_2', 'data_N']"
   ],
   "metadata": {
    "collapsed": false
   }
  },
  {
   "cell_type": "markdown",
   "source": [
    "Подвиг 7"
   ],
   "metadata": {
    "collapsed": false
   }
  },
  {
   "cell_type": "code",
   "execution_count": null,
   "outputs": [],
   "source": [
    "class Book:\n",
    "    def __init__(self, title, author, year):\n",
    "        self.title = title\n",
    "        self.author = author\n",
    "        self.year = year\n",
    "\n",
    "\n",
    "class Lib:\n",
    "    def __init__(self):\n",
    "        self.book_list = []\n",
    "\n",
    "    def __add__(self, other):\n",
    "        self.book_list.append(other)\n",
    "        return self\n",
    "\n",
    "    def __sub__(self, other):\n",
    "        self.book_list.remove(other) if isinstance(other, Book) else self.book_list.pop(other)\n",
    "        return self\n",
    "\n",
    "    def __len__(self):\n",
    "        return len(self.book_list)"
   ],
   "metadata": {
    "collapsed": false
   }
  },
  {
   "cell_type": "markdown",
   "source": [
    "Подвиг 8"
   ],
   "metadata": {
    "collapsed": false
   }
  },
  {
   "cell_type": "code",
   "execution_count": 38,
   "outputs": [],
   "source": [
    "class Item:\n",
    "    def __init__(self, name, money):\n",
    "        self.name = name\n",
    "        self.money = money\n",
    "\n",
    "    def __add__(self, other):\n",
    "        return self.money + other.money if isinstance(other, self.__class__) else self.money + other\n",
    "\n",
    "    def __radd__(self, other):\n",
    "        return self.money + other\n",
    "\n",
    "\n",
    "class Budget:\n",
    "    def __init__(self):\n",
    "        self.__budget_list = []\n",
    "\n",
    "    def add_item(self, it):\n",
    "        self.__budget_list.append(it)\n",
    "\n",
    "    def remove_item(self, indx):\n",
    "        self.__budget_list.pop(indx)\n",
    "\n",
    "    def get_items(self):\n",
    "        return self.__budget_list"
   ],
   "metadata": {
    "collapsed": false
   }
  },
  {
   "cell_type": "code",
   "execution_count": 39,
   "outputs": [
    {
     "data": {
      "text/plain": "8500.11"
     },
     "execution_count": 39,
     "metadata": {},
     "output_type": "execute_result"
    }
   ],
   "source": [
    "my_budget = Budget()\n",
    "my_budget.add_item(Item(\"Курс по Python ООП\", 2000))\n",
    "my_budget.add_item(Item(\"Курс по Django\", 5000.01))\n",
    "my_budget.add_item(Item(\"Курс по NumPy\", 0))\n",
    "my_budget.add_item(Item(\"Курс по C++\", 1500.10))\n",
    "\n",
    "# вычисление общих расходов\n",
    "s = 0\n",
    "for x in my_budget.get_items():\n",
    "    s = s + x\n",
    "s"
   ],
   "metadata": {
    "collapsed": false
   }
  },
  {
   "cell_type": "markdown",
   "source": [
    "Подвиг 9"
   ],
   "metadata": {
    "collapsed": false
   }
  },
  {
   "cell_type": "code",
   "execution_count": 52,
   "outputs": [],
   "source": [
    "class Box3D:\n",
    "    def __init__(self, width, height, depth):\n",
    "        self.width = width\n",
    "        self.height = height\n",
    "        self.depth = depth\n",
    "\n",
    "    def __arithmetic(self, other, operator=\"+\"):\n",
    "        if operator in (\"+\", \"-\") and isinstance(other, self.__class__):\n",
    "            return self.__class__(*(eval(f'{getattr(self, param)} {operator} {getattr(other, param)}') for param in\n",
    "                                    (\"width\", \"height\", \"depth\")))\n",
    "        else:\n",
    "            return self.__class__(\n",
    "                *(eval(f'{getattr(self, param)} {operator} {other}') for param in (\"width\", \"height\", \"depth\")))\n",
    "\n",
    "    def __add__(self, other):\n",
    "        return self.__arithmetic(other)\n",
    "\n",
    "    def __sub__(self, other):\n",
    "        return self.__arithmetic(other, operator=\"-\")\n",
    "\n",
    "    def __mul__(self, other):\n",
    "        return self.__arithmetic(other, operator=\"*\")\n",
    "\n",
    "    def __rmul__(self, other):\n",
    "        return self * other\n",
    "\n",
    "    def __floordiv__(self, other):\n",
    "        return self.__arithmetic(other, operator=\"//\")\n",
    "\n",
    "    def __mod__(self, other):\n",
    "        return self.__arithmetic(other, operator=\"%\")"
   ],
   "metadata": {
    "collapsed": false
   }
  },
  {
   "cell_type": "code",
   "execution_count": 53,
   "outputs": [
    {
     "data": {
      "text/plain": "(2, 1, 0)"
     },
     "execution_count": 53,
     "metadata": {},
     "output_type": "execute_result"
    }
   ],
   "source": [
    "box1 = Box3D(1, 2, 3)\n",
    "box2 = Box3D(2, 4, 6)\n",
    "\n",
    "box = box1 + box2  # Box3D: width=3, height=6, depth=9 (соответствующие размерности складываются)\n",
    "box = box1 * 2  # Box3D: width=2, height=4, depth=6 (каждая размерность умножается на 2)\n",
    "box = 3 * box2  # Box3D: width=6, height=12, depth=18\n",
    "box = box2 - box1  # Box3D: width=1, height=2, depth=3 (соответствующие размерности вычитаются)\n",
    "box = box1 // 2  # Box3D: width=0, height=1, depth=1 (соответствующие размерности целочисленно делятся на 2)\n",
    "box = box2 % 3  # Box3D: width=2, height=1, depth=0\n",
    "box.width, box.height, box.depth"
   ],
   "metadata": {
    "collapsed": false
   }
  },
  {
   "cell_type": "markdown",
   "source": [
    "Подвиг 10 (на повторение)"
   ],
   "metadata": {
    "collapsed": false
   }
  },
  {
   "cell_type": "code",
   "execution_count": 55,
   "outputs": [],
   "source": [
    "class MaxPooling:\n",
    "    def __init__(self, step=(2, 2), size=(2, 2)):\n",
    "        self.step = step\n",
    "        self.size = size\n",
    "\n",
    "    @staticmethod\n",
    "    def __validate_matrix(matrix):\n",
    "        if not isinstance(matrix, list) or not all(isinstance(row, list) for row in matrix):\n",
    "            raise ValueError(\"Неверный формат для первого параметра matrix.\")\n",
    "        row_lengths = [len(row) for row in matrix]\n",
    "        if len(set(row_lengths)) > 1:\n",
    "            raise ValueError(\"Некорректная матрица. Строки имеют разную длину.\")\n",
    "        if any(not isinstance(value, (int, float)) for row in matrix for value in row):\n",
    "            raise ValueError(\"Матрица должна содержать только числовые значения.\")\n",
    "\n",
    "    def __max_pooling(self, matrix):\n",
    "        result = []\n",
    "        rows = len(matrix)\n",
    "        cols = len(matrix[0])\n",
    "        step_x, step_y = self.step\n",
    "        size_x, size_y = self.size\n",
    "\n",
    "        for i in range(0, rows - size_x + 1, step_x):\n",
    "            row = []\n",
    "            for j in range(0, cols - size_y + 1, step_y):\n",
    "                window = [matrix[x][j:j + size_y] for x in range(i, i + size_x)]\n",
    "                max_value = max(value for sublist in window for value in sublist)\n",
    "                row.append(max_value)\n",
    "            result.append(row)\n",
    "\n",
    "        return result\n",
    "\n",
    "    def __call__(self, matrix):\n",
    "        self.__validate_matrix(matrix)\n",
    "        return self.__max_pooling(matrix)"
   ],
   "metadata": {
    "collapsed": false
   }
  },
  {
   "cell_type": "code",
   "execution_count": 56,
   "outputs": [
    {
     "data": {
      "text/plain": "[[6, 8], [9, 7]]"
     },
     "execution_count": 56,
     "metadata": {},
     "output_type": "execute_result"
    }
   ],
   "source": [
    "mp = MaxPooling(step=(2, 2), size=(2, 2))\n",
    "res = mp([[1, 2, 3, 4], [5, 6, 7, 8], [9, 8, 7, 6], [5, 4, 3, 2]])\n",
    "res"
   ],
   "metadata": {
    "collapsed": false
   }
  }
 ],
 "metadata": {
  "kernelspec": {
   "display_name": "Python 3",
   "language": "python",
   "name": "python3"
  },
  "language_info": {
   "codemirror_mode": {
    "name": "ipython",
    "version": 2
   },
   "file_extension": ".py",
   "mimetype": "text/x-python",
   "name": "python",
   "nbconvert_exporter": "python",
   "pygments_lexer": "ipython2",
   "version": "2.7.6"
  }
 },
 "nbformat": 4,
 "nbformat_minor": 0
}
