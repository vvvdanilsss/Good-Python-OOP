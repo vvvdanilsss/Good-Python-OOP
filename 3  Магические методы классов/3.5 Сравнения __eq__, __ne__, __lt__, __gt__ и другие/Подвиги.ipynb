{
 "cells": [
  {
   "cell_type": "markdown",
   "source": [
    "Подвиг 3"
   ],
   "metadata": {
    "collapsed": false
   }
  },
  {
   "cell_type": "code",
   "execution_count": 2,
   "metadata": {
    "collapsed": true
   },
   "outputs": [],
   "source": [
    "class TrackLine:\n",
    "    def __init__(self, to_x, to_y, max_speed):\n",
    "        self.to_x, self.to_y = to_x, to_y\n",
    "        self.max_speed = max_speed\n",
    "\n",
    "\n",
    "class Track:\n",
    "    def __init__(self, start_x, start_y):\n",
    "        self.start_x, self.start_y = start_x, start_y\n",
    "        self.__track_list = []\n",
    "\n",
    "    def add_track(self, tr):\n",
    "        self.__track_list.append(tr)\n",
    "\n",
    "    def get_tracks(self):\n",
    "        return tuple(self.__track_list)\n",
    "\n",
    "    def __len__(self):\n",
    "        x1, y1 = self.start_x, self.start_y\n",
    "        len_track = 0\n",
    "        for obj in self.__track_list:\n",
    "            x2, y2 = obj.to_x, obj.to_y\n",
    "            len_track += ((x1 - x2) ** 2 + (y1 - y2) ** 2) ** 0.5\n",
    "            x1, y1 = x2, y2\n",
    "        return int(len_track)\n",
    "\n",
    "    def __eq__(self, other):\n",
    "        return len(self) == len(other)\n",
    "\n",
    "    def __lt__(self, other):\n",
    "        return len(self) < len(other)\n",
    "\n",
    "\n",
    "track1, track2 = Track(0, 0), Track(0, 1)\n",
    "track1.add_track(TrackLine(2, 4, 100))\n",
    "track1.add_track(TrackLine(5, -4, 100))\n",
    "track2.add_track(TrackLine(3, 2, 90))\n",
    "track2.add_track(TrackLine(10, 8, 90))\n",
    "res_eq = track1 == track2"
   ]
  },
  {
   "cell_type": "code",
   "execution_count": 3,
   "outputs": [
    {
     "data": {
      "text/plain": "False"
     },
     "execution_count": 3,
     "metadata": {},
     "output_type": "execute_result"
    }
   ],
   "source": [
    "res_eq"
   ],
   "metadata": {
    "collapsed": false
   }
  },
  {
   "cell_type": "markdown",
   "source": [
    "Подвиг 4"
   ],
   "metadata": {
    "collapsed": false
   }
  },
  {
   "cell_type": "code",
   "execution_count": 8,
   "outputs": [],
   "source": [
    "class Dimensions:\n",
    "    MIN_DIMENSION = 10\n",
    "    MAX_DIMENSION = 10000\n",
    "\n",
    "    def __init__(self, a, b, c):\n",
    "        self.__a, self.__b, self.__c = a, b, c\n",
    "\n",
    "    def __setattr__(self, key, value):\n",
    "        if self.MIN_DIMENSION <= value <= self.MAX_DIMENSION:\n",
    "            object.__setattr__(self, key, value)\n",
    "\n",
    "    @property\n",
    "    def a(self):\n",
    "        return self.__a\n",
    "\n",
    "    @a.setter\n",
    "    def a(self, value):\n",
    "        self.__a = value\n",
    "\n",
    "    @property\n",
    "    def b(self):\n",
    "        return self.__b\n",
    "\n",
    "    @b.setter\n",
    "    def b(self, value):\n",
    "        self.__b = value\n",
    "\n",
    "    @property\n",
    "    def c(self):\n",
    "        return self.__c\n",
    "\n",
    "    @c.setter\n",
    "    def c(self, value):\n",
    "        self.__c = value\n",
    "\n",
    "    def __lt__(self, other):\n",
    "        return self.a * self.b * self.c < other.a * other.b * other.c\n",
    "\n",
    "    def __le__(self, other):\n",
    "        return self.a * self.b * self.c <= other.a * other.b * other.c\n",
    "\n",
    "\n",
    "class ShopItem:\n",
    "    def __init__(self, name, price, dim):\n",
    "        self.name = name\n",
    "        self.price = price\n",
    "        self.dim = dim\n",
    "\n",
    "\n",
    "trainers = ShopItem('кеды', 1024, Dimensions(40, 30, 120))\n",
    "umbrella = ShopItem('зонт', 500.24, Dimensions(10, 20, 50))\n",
    "fridge = ShopItem('холодильник', 40000, Dimensions(2000, 600, 500))\n",
    "chair = ShopItem('табуретка', 2000.99, Dimensions(500, 200, 200))\n",
    "lst_shop = [trainers, umbrella, fridge, chair]\n",
    "lst_shop_sorted = sorted(lst_shop, key=lambda x: x.dim)"
   ],
   "metadata": {
    "collapsed": false
   }
  },
  {
   "cell_type": "code",
   "execution_count": 9,
   "outputs": [
    {
     "data": {
      "text/plain": "[<__main__.ShopItem at 0x21deb589c50>,\n <__main__.ShopItem at 0x21deb48b690>,\n <__main__.ShopItem at 0x21debc3a290>,\n <__main__.ShopItem at 0x21deb3d9810>]"
     },
     "execution_count": 9,
     "metadata": {},
     "output_type": "execute_result"
    }
   ],
   "source": [
    "lst_shop_sorted"
   ],
   "metadata": {
    "collapsed": false
   }
  },
  {
   "cell_type": "markdown",
   "source": [
    "Подвиг 5"
   ],
   "metadata": {
    "collapsed": false
   }
  },
  {
   "cell_type": "code",
   "execution_count": 13,
   "outputs": [],
   "source": [
    "import re\n",
    "\n",
    "stich = [\"Я к вам пишу – чего же боле?\",\n",
    "         \"Что я могу еще сказать?\",\n",
    "         \"Теперь, я знаю, в вашей воле\",\n",
    "         \"Меня презреньем наказать.\",\n",
    "         \"Но вы, к моей несчастной доле\",\n",
    "         \"Хоть каплю жалости храня,\",\n",
    "         \"Вы не оставите меня.\"]\n",
    "\n",
    "result = []\n",
    "for line in stich:\n",
    "    cleaned_line = re.sub(r\"[-?!,.;]+\", \"\", line)  # Удаление символов \"-?!,.;\"\n",
    "    words = re.findall(r\"\\b\\w+\\b\", cleaned_line)  # Разделение строки на слова\n",
    "    result.append(words)\n",
    "\n",
    "\n",
    "class StringText:\n",
    "    def __init__(self, lst_words):\n",
    "        self.__lst_worlds = lst_words\n",
    "\n",
    "    def get_lst_worlds(self):\n",
    "        return self.__lst_worlds\n",
    "\n",
    "    def __lt__(self, other):\n",
    "        return len(self.__lst_worlds) < len(other.__lst_worlds)\n",
    "\n",
    "    def __le__(self, other):\n",
    "        return len(self.__lst_worlds) <= len(other.__lst_worlds)\n",
    "\n",
    "\n",
    "lst_text = [StringText(lst_words) for lst_words in result]\n",
    "lst_text_sorted = sorted(lst_text, reverse=True)\n",
    "lst_text_sorted = [\" \".join(obj.get_lst_worlds()) for obj in lst_text_sorted]"
   ],
   "metadata": {
    "collapsed": false
   }
  },
  {
   "cell_type": "markdown",
   "source": [
    "Подвиг 6"
   ],
   "metadata": {
    "collapsed": false
   }
  },
  {
   "cell_type": "code",
   "execution_count": 21,
   "outputs": [
    {
     "name": "stdout",
     "output_type": "stream",
     "text": [
      "2\n"
     ]
    }
   ],
   "source": [
    "import re\n",
    "\n",
    "\n",
    "class Morph:\n",
    "    def __init__(self, *args):\n",
    "        self.__words = list(args) if args else []\n",
    "\n",
    "    def add_word(self, word):\n",
    "        if word not in self.__words:\n",
    "            self.__words.append(word)\n",
    "\n",
    "    def get_words(self):\n",
    "        return tuple(self.__words)\n",
    "\n",
    "    def __eq__(self, other):\n",
    "        return other.lower() in self.__words\n",
    "\n",
    "\n",
    "dict_words = [\n",
    "    Morph('связь', 'связи', 'связью', 'связи', 'связей', 'связям', 'связями', 'связях'),\n",
    "    Morph('формула', 'формулы', 'формуле', 'формулу', 'формулой', 'формул', 'формулам', 'формулами',\n",
    "          'формулах'),\n",
    "    Morph('вектор', 'вектора', 'вектору', 'вектором', 'векторе', 'векторы', 'векторов', 'векторам',\n",
    "          'векторами', 'векторах'\n",
    "          ),\n",
    "    Morph('эффект', 'эффекта', 'эффекту', 'эффектом', 'эффекте', 'эффекты', 'эффектов', 'эффектам',\n",
    "          'эффектами', 'эффектах'\n",
    "          ),\n",
    "    Morph('день', 'дня', 'дню', 'днем', 'дне', 'дни', 'дням', 'днями', 'днях')\n",
    "]\n",
    "text = input()\n",
    "text_list = re.findall(r'\\w+', text.lower())\n",
    "text_filtered = list(filter(lambda x: any(obj == x for obj in dict_words), text_list))\n",
    "print(len(text_filtered))"
   ],
   "metadata": {
    "collapsed": false
   }
  },
  {
   "cell_type": "markdown",
   "source": [
    "Подвиг 7 (на повторение)"
   ],
   "metadata": {
    "collapsed": false
   }
  },
  {
   "cell_type": "code",
   "execution_count": 28,
   "outputs": [],
   "source": [
    "class FileAcceptor:\n",
    "    def __init__(self, *args):\n",
    "        self.accept_files = args\n",
    "\n",
    "    def __call__(self, filename):\n",
    "        return filename.rsplit(\".\", 1)[-1] in self.accept_files\n",
    "\n",
    "    def __add__(self, other):\n",
    "        return self.__class__(*set(self.accept_files + other.accept_files))"
   ],
   "metadata": {
    "collapsed": false
   }
  },
  {
   "cell_type": "code",
   "execution_count": 29,
   "outputs": [
    {
     "data": {
      "text/plain": "('bmp', 'jpeg', 'png', 'jpg')"
     },
     "execution_count": 29,
     "metadata": {},
     "output_type": "execute_result"
    }
   ],
   "source": [
    "acceptor1 = FileAcceptor(\"jpg\", \"jpeg\", \"png\")\n",
    "acceptor2 = FileAcceptor(\"png\", \"bmp\")\n",
    "acceptor12 = acceptor1 + acceptor2  # (\"jpg\", \"jpeg\", \"png\", \"bmp\")\n",
    "acceptor12.accept_files"
   ],
   "metadata": {
    "collapsed": false
   }
  },
  {
   "cell_type": "code",
   "execution_count": 30,
   "outputs": [
    {
     "data": {
      "text/plain": "['boat.jpg',\n 'ans.web.png',\n 'text.txt',\n 'www.python.doc',\n 'my.ava.jpg',\n 'forest.jpeg',\n 'eq_1.png',\n 'eq_2.xls']"
     },
     "execution_count": 30,
     "metadata": {},
     "output_type": "execute_result"
    }
   ],
   "source": [
    "filenames = [\"boat.jpg\", \"ans.web.png\", \"text.txt\", \"www.python.doc\", \"my.ava.jpg\", \"forest.jpeg\", \"eq_1.png\",\n",
    "             \"eq_2.xls\"]\n",
    "\n",
    "acceptor_images = FileAcceptor(\"jpg\", \"jpeg\", \"png\")\n",
    "acceptor_docs = FileAcceptor(\"txt\", \"doc\", \"xls\")\n",
    "filenames = list(filter(acceptor_images + acceptor_docs, filenames))\n",
    "filenames"
   ],
   "metadata": {
    "collapsed": false
   }
  },
  {
   "cell_type": "markdown",
   "source": [
    "Подвиг 8"
   ],
   "metadata": {
    "collapsed": false
   }
  },
  {
   "cell_type": "code",
   "execution_count": 33,
   "outputs": [],
   "source": [
    "class Money:\n",
    "    names = {\"MoneyR\": \"rub\", \"MoneyD\": \"dollar\", \"MoneyE\": \"euro\"}\n",
    "\n",
    "    def __init__(self, volume=0):\n",
    "        self.__cb = None\n",
    "        self.__volume = volume\n",
    "\n",
    "    @property\n",
    "    def cb(self):\n",
    "        return self.__cb\n",
    "\n",
    "    @cb.setter\n",
    "    def cb(self, link):\n",
    "        self.__cb = link\n",
    "\n",
    "    @property\n",
    "    def volume(self):\n",
    "        return self.__volume\n",
    "\n",
    "    @volume.setter\n",
    "    def volume(self, value):\n",
    "        self.__volume = value\n",
    "\n",
    "    def __lt__(self, other):\n",
    "        self.__check_register(self, other)\n",
    "        valid_money_1, valid_money_2 = self.__get_valid_money(self, other)\n",
    "        return valid_money_1 < valid_money_2\n",
    "\n",
    "    def __le__(self, other):\n",
    "        self.__check_register(self, other)\n",
    "        valid_money_1, valid_money_2 = self.__get_valid_money(self, other)\n",
    "        return valid_money_1 <= valid_money_2\n",
    "\n",
    "    def __eq__(self, other):\n",
    "        self.__check_register(self, other)\n",
    "        valid_money_1, valid_money_2 = self.__get_valid_money(self, other)\n",
    "        return valid_money_1 == valid_money_2\n",
    "\n",
    "    @staticmethod\n",
    "    def __check_register(obj_1, obj_2):\n",
    "        if not obj_1.cb or not obj_2.cb:\n",
    "            raise ValueError(\"Неизвестен курс валют.\")\n",
    "\n",
    "    @classmethod\n",
    "    def __get_valid_money(cls, obj_1, obj_2):\n",
    "        key_1, key_2 = cls.names.get(obj_1.__class__.__name__), cls.names.get(obj_2.__class__.__name__)\n",
    "        return round(obj_1.volume / obj_1.cb.rates.get(key_1), 1), round(obj_2.volume / obj_2.cb.rates.get(key_2), 1)\n",
    "\n",
    "\n",
    "class CentralBank:\n",
    "    def __new__(cls, *args, **kwargs):\n",
    "        return None\n",
    "\n",
    "    rates = {'rub': 72.5, 'dollar': 1.0, 'euro': 1.15}\n",
    "\n",
    "    @classmethod\n",
    "    def register(cls, money):\n",
    "        money.cb = cls\n",
    "\n",
    "\n",
    "class MoneyR(Money):\n",
    "    pass\n",
    "\n",
    "\n",
    "class MoneyD(Money):\n",
    "    pass\n",
    "\n",
    "\n",
    "class MoneyE(Money):\n",
    "    pass"
   ],
   "metadata": {
    "collapsed": false
   }
  },
  {
   "cell_type": "code",
   "execution_count": 34,
   "outputs": [
    {
     "name": "stdout",
     "output_type": "stream",
     "text": [
      "неплохо\n"
     ]
    }
   ],
   "source": [
    "CentralBank.rates = {'rub': 72.5, 'dollar': 1.0, 'euro': 1.15}\n",
    "\n",
    "r = MoneyR(45000)\n",
    "d = MoneyD(500)\n",
    "\n",
    "CentralBank.register(r)\n",
    "CentralBank.register(d)\n",
    "\n",
    "if r > d:\n",
    "    print(\"неплохо\")\n",
    "else:\n",
    "    print(\"нужно поднажать\")"
   ],
   "metadata": {
    "collapsed": false
   }
  },
  {
   "cell_type": "markdown",
   "source": [
    "Подвиг 9 (релакс)"
   ],
   "metadata": {
    "collapsed": false
   }
  },
  {
   "cell_type": "code",
   "execution_count": 35,
   "outputs": [],
   "source": [
    "class Body:\n",
    "    def __init__(self, name, ro, volume):\n",
    "        self.name = name\n",
    "        self.ro = ro\n",
    "        self.volume = volume\n",
    "\n",
    "    @staticmethod\n",
    "    def get_m(obj_1, obj_2):\n",
    "        return obj_1.ro * obj_1.volume, obj_2.ro * obj_2.volume if isinstance(obj_2, obj_1.__class__) else obj_2\n",
    "\n",
    "    def __lt__(self, other):\n",
    "        m_1, m_2 = self.get_m(self, other)\n",
    "        return m_1 < m_2\n",
    "\n",
    "    def __eq__(self, other):\n",
    "        m_1, m_2 = self.get_m(self, other)\n",
    "        return m_1 == m_2"
   ],
   "metadata": {
    "collapsed": false
   }
  },
  {
   "cell_type": "markdown",
   "source": [
    "Подвиг 10"
   ],
   "metadata": {
    "collapsed": false
   }
  },
  {
   "cell_type": "code",
   "execution_count": 38,
   "outputs": [],
   "source": [
    "class Thing:\n",
    "    def __init__(self, name, mass):\n",
    "        self.name = name\n",
    "        self.mass = mass\n",
    "\n",
    "    def __eq__(self, other):\n",
    "        return self.name.lower() == other.name.lower() and self.mass == other.mass\n",
    "\n",
    "\n",
    "class Box:\n",
    "    def __init__(self):\n",
    "        self.__box_list = []\n",
    "\n",
    "    def add_thing(self, obj):\n",
    "        self.__box_list.append(obj)\n",
    "\n",
    "    def get_things(self):\n",
    "        return self.__box_list\n",
    "\n",
    "    def __eq__(self, other):\n",
    "        return len(self.get_things()) == len(other.get_things()) == len([x for x in self.get_things() for y in other.get_things() if x == y])"
   ],
   "metadata": {
    "collapsed": false
   }
  },
  {
   "cell_type": "code",
   "execution_count": 39,
   "outputs": [
    {
     "data": {
      "text/plain": "True"
     },
     "execution_count": 39,
     "metadata": {},
     "output_type": "execute_result"
    }
   ],
   "source": [
    "b1 = Box()\n",
    "b2 = Box()\n",
    "\n",
    "b1.add_thing(Thing('мел', 100))\n",
    "b1.add_thing(Thing('тряпка', 200))\n",
    "b1.add_thing(Thing('доска', 2000))\n",
    "\n",
    "b2.add_thing(Thing('тряпка', 200))\n",
    "b2.add_thing(Thing('мел', 100))\n",
    "b2.add_thing(Thing('доска', 2000))\n",
    "\n",
    "b1 == b2 # True"
   ],
   "metadata": {
    "collapsed": false
   }
  }
 ],
 "metadata": {
  "kernelspec": {
   "display_name": "Python 3",
   "language": "python",
   "name": "python3"
  },
  "language_info": {
   "codemirror_mode": {
    "name": "ipython",
    "version": 2
   },
   "file_extension": ".py",
   "mimetype": "text/x-python",
   "name": "python",
   "nbconvert_exporter": "python",
   "pygments_lexer": "ipython2",
   "version": "2.7.6"
  }
 },
 "nbformat": 4,
 "nbformat_minor": 0
}
