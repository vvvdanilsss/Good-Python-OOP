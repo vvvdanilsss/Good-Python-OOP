{
 "cells": [
  {
   "cell_type": "markdown",
   "source": [
    "Подвиг 4"
   ],
   "metadata": {
    "collapsed": false
   }
  },
  {
   "cell_type": "code",
   "execution_count": 3,
   "metadata": {
    "collapsed": true
   },
   "outputs": [],
   "source": [
    "import sys\n",
    "\n",
    "\n",
    "class Player:\n",
    "    def __init__(self, name, old, score):\n",
    "        self.name, self.old, self.score = name, old, score\n",
    "\n",
    "    def __bool__(self):\n",
    "        return self.score > 0\n",
    "\n",
    "\n",
    "lst_in = list(map(str.strip, sys.stdin.readlines()))\n",
    "players = [Player(*map(lambda x: int(x) if x.isdigit()\n",
    "else x, line.split(\"; \"))) for line in lst_in]\n",
    "players_filtered = list(filter(bool, players))"
   ]
  },
  {
   "cell_type": "markdown",
   "source": [
    "Подвиг 5"
   ],
   "metadata": {
    "collapsed": false
   }
  },
  {
   "cell_type": "code",
   "execution_count": 6,
   "outputs": [],
   "source": [
    "import sys\n",
    "\n",
    "\n",
    "class MailItem:\n",
    "    def __init__(self, mail_from, title, content):\n",
    "        self.mail_from, self.title, self.content = mail_from, title, content\n",
    "        self.is_read = False\n",
    "\n",
    "    def set_read(self, fl_read):\n",
    "        self.is_read = fl_read\n",
    "\n",
    "    def __bool__(self):\n",
    "        return self.is_read\n",
    "\n",
    "\n",
    "class MailBox:\n",
    "    def __init__(self):\n",
    "        self.inbox_list = []\n",
    "\n",
    "    def receive(self):\n",
    "        lst_in = list(map(str.strip, sys.stdin.readlines()))\n",
    "        self.inbox_list = [MailItem(*line.split(\"; \")) for line in lst_in]\n",
    "\n",
    "\n",
    "mail = MailBox()\n",
    "mail.receive()\n",
    "mail.inbox_list[0].set_read(True)\n",
    "mail.inbox_list[-1].set_read(True)\n",
    "inbox_list_filtered = list(filter(bool, mail.inbox_list))"
   ],
   "metadata": {
    "collapsed": false
   }
  },
  {
   "cell_type": "markdown",
   "source": [
    "Подвиг 6"
   ],
   "metadata": {
    "collapsed": false
   }
  },
  {
   "cell_type": "code",
   "execution_count": null,
   "outputs": [],
   "source": [
    "class Line:\n",
    "    def __init__(self, x1, y1, x2, y2):\n",
    "        self.x1, self.y1 = x1, y1\n",
    "        self.x2, self.y2 = x2, y2\n",
    "\n",
    "    def __len__(self):\n",
    "        len_line = ((self.x2 - self.x1) ** 2 + (self.y2 - self.y1) ** 2) ** 0.5\n",
    "        return 0 if len_line < 1 else int(len_line)"
   ],
   "metadata": {
    "collapsed": false
   }
  },
  {
   "cell_type": "markdown",
   "source": [
    "Подвиг 7"
   ],
   "metadata": {
    "collapsed": false
   }
  },
  {
   "cell_type": "code",
   "execution_count": 30,
   "outputs": [],
   "source": [
    "class Ellipse:\n",
    "    names = ('x1', 'y1', 'x2', 'y2')\n",
    "\n",
    "    def __init__(self, *args):\n",
    "        for i, coord in enumerate(args):\n",
    "            object.__setattr__(self, self.names[i] if i < len(self.names) else f'extra_param_{i}', args[i])\n",
    "\n",
    "\n",
    "    def __bool__(self):\n",
    "        return tuple(self.__dict__.keys())[:4] == self.names\n",
    "\n",
    "\n",
    "    def get_coords(self):\n",
    "        if self:\n",
    "            return tuple(self.__dict__.values())[:4]\n",
    "        else:\n",
    "            raise AttributeError('нет координат для извлечения')\n",
    "\n",
    "\n",
    "lst_geom = [Ellipse(), Ellipse(), Ellipse(1, 2, 3, 4), Ellipse(5, 6, 7, 8)]\n",
    "for obj in lst_geom:\n",
    "    if obj:\n",
    "        obj.get_coords()"
   ],
   "metadata": {
    "collapsed": false
   }
  },
  {
   "cell_type": "markdown",
   "source": [
    "Подвиг 9 (на повторение)"
   ],
   "metadata": {
    "collapsed": false
   }
  },
  {
   "cell_type": "code",
   "execution_count": 36,
   "outputs": [],
   "source": [
    "class Vector:\n",
    "    def __init__(self, *args):\n",
    "        self.__coords = list(args)\n",
    "\n",
    "    def get_coords(self):\n",
    "        return self.__coords\n",
    "\n",
    "    @staticmethod\n",
    "    def __validate(obj_1, obj_2):\n",
    "        if len(obj_1.get_coords()) != len(obj_2.get_coords()):\n",
    "            raise ArithmeticError('размерности векторов не совпадают')\n",
    "        return len(obj_1.get_coords())\n",
    "\n",
    "    def __add__(self, other):\n",
    "        return self.__class__(*[self.get_coords()[i] + other.get_coords()[i] for i in range(self.__validate(self, other))])\n",
    "\n",
    "    def __iadd__(self, other):\n",
    "        self.__coords = [self.get_coords()[i] + other.get_coords()[i] for i in range(self.__validate(self, other))] if isinstance(other, self.__class__) else [coord + other for coord in self.__coords]\n",
    "        return self\n",
    "\n",
    "    def __sub__(self, other):\n",
    "        return self.__class__(*[self.get_coords()[i] - other.get_coords()[i] for i in range(self.__validate(self, other))])\n",
    "\n",
    "    def __isub__(self, other):\n",
    "        self.__coords = [self.get_coords()[i] - other.get_coords()[i] for i in range(self.__validate(self, other))] if isinstance(other, self.__class__) else [coord - other for coord in self.__coords]\n",
    "        return self\n",
    "\n",
    "    def __mul__(self, other):\n",
    "        return self.__class__(*[self.get_coords()[i] * other.get_coords()[i] for i in range(self.__validate(self, other))])\n",
    "\n",
    "    def __eq__(self, other):\n",
    "        return self.get_coords() == other.get_coords()"
   ],
   "metadata": {
    "collapsed": false
   }
  },
  {
   "cell_type": "code",
   "execution_count": 37,
   "outputs": [
    {
     "name": "stdout",
     "output_type": "stream",
     "text": [
      "[5, 7, 9]\n",
      "[-3, -3, -3]\n",
      "[4, 10, 18]\n",
      "[11, 12, 13]\n",
      "[1, 2, 3]\n",
      "[5, 7, 9]\n",
      "[-1, -2, -3]\n",
      "False\n",
      "True\n"
     ]
    }
   ],
   "source": [
    "v1 = Vector(1, 2, 3)\n",
    "v2 = Vector(4, 5, 6)\n",
    "print((v1 + v2).get_coords())  # [5, 7, 9]\n",
    "print((v1 - v2).get_coords())  # [-3, -3, -3]\n",
    "print((v1 * v2).get_coords())  # [4, 10, 18]\n",
    "\n",
    "v1 += 10\n",
    "print(v1.get_coords())  # [11, 12, 13]\n",
    "v1 -= 10\n",
    "print(v1.get_coords())  # [1, 2, 3]\n",
    "v1 += v2\n",
    "print(v1.get_coords())  # [5, 7, 9]\n",
    "v2 -= v1\n",
    "print(v2.get_coords())  # [-1, -2, -3]\n",
    "\n",
    "print(v1 == v2)  # False\n",
    "print(v1 != v2)  # True"
   ],
   "metadata": {
    "collapsed": false
   }
  }
 ],
 "metadata": {
  "kernelspec": {
   "display_name": "Python 3",
   "language": "python",
   "name": "python3"
  },
  "language_info": {
   "codemirror_mode": {
    "name": "ipython",
    "version": 2
   },
   "file_extension": ".py",
   "mimetype": "text/x-python",
   "name": "python",
   "nbconvert_exporter": "python",
   "pygments_lexer": "ipython2",
   "version": "2.7.6"
  }
 },
 "nbformat": 4,
 "nbformat_minor": 0
}
